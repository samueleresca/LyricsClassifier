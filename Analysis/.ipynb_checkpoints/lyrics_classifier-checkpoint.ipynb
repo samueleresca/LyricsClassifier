{
 "cells": [
  {
   "cell_type": "markdown",
   "metadata": {},
   "source": [
    "# Lyrics classifier"
   ]
  },
  {
   "cell_type": "markdown",
   "metadata": {},
   "source": [
    "## Load packages"
   ]
  },
  {
   "cell_type": "code",
   "execution_count": null,
   "metadata": {},
   "outputs": [],
   "source": [
    "#load \"Paket.fsx\"\n",
    "\n",
    "Paket.Package \n",
    "  [\"XPlot.Plotly\"\n",
    "   \"MathNet.Numerics\"\n",
    "   \"MathNet.Numerics.FSharp\"\n",
    "   \"FSharp.Data\"\n",
    "   \"Microsoft.ML\"]\n",
    "   \n",
    "#load \"XPlot.Plotly.Paket.fsx\"\n",
    "#load \"XPlot.Plotly.fsx\"\n",
    "#load \"Paket.Generated.Refs.fsx\""
   ]
  },
  {
   "cell_type": "markdown",
   "metadata": {},
   "source": [
    "## Namespaces import and type definition"
   ]
  },
  {
   "cell_type": "code",
   "execution_count": null,
   "metadata": {},
   "outputs": [],
   "source": [
    "open System\n",
    "open System.Linq\n",
    "open System.IO\n",
    "open MathNet.Numerics\n",
    "open MathNet.Numerics.Distributions\n",
    "open MathNet.Numerics.LinearAlgebra\n",
    "open MathNet.Numerics.Random\n",
    "open FSharp.Data\n",
    "\n",
    "\n",
    "\n",
    "[<CLIMutable>]\n",
    "type LyricsInput = \n",
    "    {\n",
    "        Song : string\n",
    "        Artist : string\n",
    "        Genre : string\n",
    "        Lyrics : string\n",
    "        Year: int\n",
    "    }\n",
    "    "
   ]
  },
  {
   "cell_type": "markdown",
   "metadata": {},
   "source": [
    "## Data cleanup"
   ]
  },
  {
   "cell_type": "code",
   "execution_count": 3,
   "metadata": {},
   "outputs": [],
   "source": [
    "    let trainDataPath = Path.Combine(\"../\",\"Data\",\"lyrics.csv\")   \n",
    "    let msft = CsvFile.Load(File.Open(trainDataPath, FileMode.Open), separators = \",\", quote = '\"', hasHeaders= true)\n",
    "    \n",
    "    let songLyrics = \n",
    "           msft.Rows\n",
    "           |> Seq.filter (fun row -> not(row.GetColumn \"lyrics\" |> String.IsNullOrEmpty))\n",
    "           |> Seq.map (fun row -> {  Song = (row.GetColumn \"song\")\n",
    "                                     Artist = (row.GetColumn \"artist\")\n",
    "                                     Genre = (row.GetColumn \"genre\")\n",
    "                                     Lyrics = (row.GetColumn \"lyrics\").Replace(Environment.NewLine, \", \")\n",
    "                                     Year = (row.GetColumn \"year\") |> int\n",
    "                                  })\n",
    "                              "
   ]
  },
  {
   "cell_type": "markdown",
   "metadata": {},
   "source": [
    "### Visualize cleaned data"
   ]
  },
  {
   "cell_type": "code",
   "execution_count": 4,
   "metadata": {},
   "outputs": [
    {
     "data": {
      "text/plain": [
       "{Song = \"ego-remix\";\n",
       " Artist = \"beyonce-knowles\";\n",
       " Genre = \"Pop\";\n",
       " Lyrics =\n",
       "  \"Oh baby, how you doing?, You know I'm gonna cut right to the chase, Some women were made but me, myself, I like to think that I was created for a special purpose, You know, what's more special than you? You feel me, It's on baby, let's get lost, You don't need to call into work 'cause you're the boss, For real, want you to show me how you feel, I consider myself lucky, that's a big deal, Why? Well, you got the key to my heart, But you ain't gonna need it, I'd rather you open up my body, And show me secrets, you didn't know was inside, No need for me to lie, It's too big, it's too wide, It's too strong, it won't fit, It's too much, it's too tough, He talk like this 'cause he can back it up, He got a big ego, such a huge ego, I love his big ego, it's too much, He walk like this 'cause he can back it up, Usually I'm humble, right now I don't choose, You can leave with me or you could have the blues, Some call it arrogant, I call it confident, You decide when you find on what I'm working with, Damn I know I'm killing you with them legs, Better yet them thighs, Matter a fact it's my smile or maybe my eyes, Boy you a site to see, kind of something like me, It's too big, it's too wide, It's too strong, it won't fit, It's too much, it's too tough, I talk like this 'cause I can back it up, I got a big ego, such a huge ego, But he love my big ego, it's too much, I walk like this 'cause I can back it up, I, I walk like this 'cause I can back it up, I, I talk like this 'cause I can back it up, I, I can back it up, I can back it up, I walk like this 'cause I can back it up, It's too big, it's too wide, It's too strong, it won't fit, It's too much, it's too tough, He talk like this 'cause he can back it up, He got a big ego, such a huge ego, such a huge ego, I love his big ego, it's too much, He walk like this 'cause he can back it up, Ego so big, you must admit, I got every reason to feel like I'm that bitch, Ego so strong, if you ain't know, I don't need no beat, I can sing it with piano\";\n",
       " Year = 2009;}\n",
       "{Song = \"then-tell-me\";\n",
       " Artist = \"beyonce-knowles\";\n",
       " Genre = \"Pop\";\n",
       " Lyrics =\n",
       "  \"playin' everything so easy,, it's like you seem so sure., still your ways, you dont see, i'm not sure if they're for me., then things come right along our way, though we didn't truly ask., it seems as if they're gonna linger, with every delight they bring,, just like what you have truly seemed., i'm trying to think of what you really want to say,, even through my darkest day., you might want to leave me,, feeling strange about you, like you're gonna let me know,, when words then slipped out of you., when words dont come so easy to say, you just leave me feeling, come what may, though i want things coming from your way., i say to you, you bore me all the time, when you seem to hold back all in you,, all that you want to let me know., why dont you have the courage?, speak up and i'll listen,, if you truly want me to know, then tell me., is there something wrong with you, and you seem fastened there., it sounds as if there'll be a melody, if things in you are let out, and then i will feel alright., when you sleep, do you feel the same,, exactly as i do?, i really want to hear things from you,, though i've felt something new, eversince you acted that way., if i go,, would you still mind telling me?, if i stay,, you seem to let the days go by., if you truly want to let me know,, then tell me.\";\n",
       " Year = 2009;}\n",
       "{Song = \"honesty\";\n",
       " Artist = \"beyonce-knowles\";\n",
       " Genre = \"Pop\";\n",
       " Lyrics =\n",
       "  \"If you search, For tenderness, It isn't hard to find, You can have the love, You need to live, But if you look, For truthfulness, You might just, As well be blind, It always seems to be, So hard to give, Chorus:, Honesty, Is such a lonely word, Everyone is so untrue, Honesty, Is hardly ever heard, And mostly, What I need from you, I can always, Find someone, To say, They sympathize, If I wear my heart, Out on my sleeve, But I don't want, Some pretty face, To tell me, Pretty lies, All I want, Is someone, To believe, (Chorus), I can find a lover, I can find a friend, I can have security, Until the bitter end, Anyone can comfort me, With promises again, I know, I know, When I'm deep, Inside of me, Don't be, Too concerned, I won't ask, For nothin', While I'm gone, But when I want, Sincerity, Tell me where else, Can I turn, When, You're the one, That I depend upon, (Chorus)\";\n",
       " Year = 2009;}\n",
       "{Song = \"you-are-my-rock\";\n",
       " Artist = \"beyonce-knowles\";\n",
       " Genre = \"Pop\";\n",
       " Lyrics =\n",
       "  \"Oh oh oh I, oh oh oh I, [Verse 1:], If I wrote a book about where we stand, Then the title of my book would be \"Life with Superman\", That's how you make me feel I count you as a privilege, This love is so ideal, I'm honored to be in it, I know you feel the same I see it everyday, In all the things you do, In all the things you say, [Chorus:], You are my rock, Baby you're the truth, You are my rock, I love to rock with you, You are my rock, You're everything I need, You are my rock, So baby rock with me, I wanna kiss ya, feel ya, please ya just right, I wanna touch ya, love ya, baby all night, Reward ya, for all the things you do, You are my rock, I love to rock with you, I love to rock with you, Oh oh oh I, [Verse 2:], If I were to try to count the ways, You make me smile, I'd run out of fingers, Before I run out of timeless things to talk about, Sugar you keeps it going on, Make me wanna keep my lovin strong, Make me wanna try my best, To give you what you want and what you need, Give you my whole heart, not just a little piece, More than a minimum,, I'm talking everything, More than a single wish,, I'm talking every dream, [Chorus:], You are my rock, Baby you're the truth, You are my rock, I love to rock with you, You are my rock, You're everything I need, You are my rock, So baby rock with me, I wanna kiss ya, feel ya, please ya just right, I wanna touch ya, love ya, baby all night, Reward ya, for all the things you do, You are my rock, I love to rock with you, I wanna rock with you, [Bridge:], If there's options I don't want them, They're not worth my time, Cause if it's not you, oh no thank you I like us just fine, You're a rock in the sand, You're a smile in a cry, You're my joy through the pain, You're the truth through the lies, No matter what I do I know that I can count on you, Oh oh oh I, oh oh oh I, [Chorus:], You are my rock, Baby you're the truth, You are my rock, I love to rock with you, You are my rock, You're everything I need, You are my rock, So baby rock with me, I wanna kiss ya, feel ya, please ya just right, I wanna touch ya, love ya, baby all night, Reward ya, for all the things you do, You are my rock, I love to rock with you, I love to rock with you, Oh oh oh I, oh oh oh I, I wanna kiss ya, feel ya, please ya just right, I wanna touch ya, love ya, baby all night, Reward ya, for all the things you do, You are my rock, I love to rock with you, I wanna rock with you\";\n",
       " Year = 2009;}\n",
       "{Song = \"black-culture\";\n",
       " Artist = \"beyonce-knowles\";\n",
       " Genre = \"Pop\";\n",
       " Lyrics =\n",
       "  \"Party the people, the people the party it's popping no sitting around,, I see you looking you looking I see you I look at what you started now, Let's hook up little one on one up come on give some of the that stuff,, Let me freshin' it with no ruff (let's go), Let's hook up when we start we won't stop,, Baby, baby don't stop come on give me some of that stuff (let's go), I am, Black Culture, I am, Black Culture, I am, Black Culture, I am, Black Culture, Party the people, the people the party, it's popping no sitting around,, I see you looking you looking I see you I look at what you started now, Let's hook up come one give some of the that stuff,, Let me freshin' it up little one on one with no ruff (let's go), Let's hook up, when we start we won't stop,, Baby, baby don't stop come on give me some of that stuff (let's go), You are, Black Culture, You are, Black Culture, You are, Black Culture, You are, Black Culture, Let's hook up come on give some of the that stuff,, Let me freshin' it up little one on one with no ruff (let's go), Let's hook up, when we start we won't stop,, Baby, baby don't stop come on give me some of that stuff (let's go), Let's hook up come on give some of the that stuff, Let me freshin' it up little one on one with no ruff (let's go) Let's hook up, when we start we won't stop, Baby, baby don't stop come on give me some of that stuff (let's go), We are, Black Culture, We are, Black Culture, We are, Black Culture, We are, Black Culture, We are, Black Culture, We are, Black Culture, We are, Black Culture, We are, Black Culture\";\n",
       " Year = 2009;}\n",
       "{Song = \"all-i-could-do-was-cry\";\n",
       " Artist = \"beyonce-knowles\";\n",
       " Genre = \"Pop\";\n",
       " Lyrics =\n",
       "  \"I heard, Church bells ringing, I heard, A choir singing, I saw my love, Walk down, The aisle, On her finger, He placed a ring, Oooh, oh, I saw them, Holding hands, She was, Standing there, Wwith my man, I heard, Them promise, Til death do, Us part, Each word, Was a pain, In my heart, All I could do, All I could do, Was cry, All I could do, Was cry, I was, Losing the man, That I love, And all, I could do, Was cry, And now, The wedding, Is over, The rice, rice, Has been, Thrown over, Their heads, For them life, Has just begun, But mine, Is ending, Ooh, All I could do, All I could do, Was cry, All I could do, Was cry, I was losing, The man, That I love, And all, I could do, Was cry\";\n",
       " Year = 2009;}\n",
       "{Song = \"once-in-a-lifetime\";\n",
       " Artist = \"beyonce-knowles\";\n",
       " Genre = \"Pop\";\n",
       " Lyrics =\n",
       "  \"This is just another day that I would spend, Waitin' for the right one., Staring at the night and wishin' I could be the one, To feel the warm sun., You're a dream, but I'm wide awake, I'm in Heaven, for heaven sakes, So get ready, (get ready) I'm ready now (get ready), I could never need you more than now, You were worth waiting for, You the one that I adore, Hold on to me tight, For once in my life, You were worth waiting for, You the one that I adore, This kind of love you'll only find, Once in a lifetime, once in a lifetime, Tell me that your living in a place, Where no one else can find you., Tell me that your sanging out my name,, Hoping that I'll hear you., Tell me \"No\" and I'll fade away,, But this is lovin that I won't waste, So get ready, (get ready) I'm ready now (get ready), I could never need you more than now, You were worth waiting for, You the one that I adore, hold on to me tight, For once in my life, You were worth waiting for, You the one that I adore, This kind of love you'll only find, Once in a lifetime, once in a lifetime, What are the words, I'm needin' to hear, How do I know if I'll ever love again, Seeing your face makes everything clear (clear) clear, And I will never be the same, You were worth waiting for, You the one that I adore, hold on to me tight, For once in my life, You were worth waiting for, You the one that I adore, This kind of love you'll only find, Once in a lifetime, once in a lifetime\";\n",
       " Year = 2009;}\n",
       "{Song = \"waiting\";\n",
       " Artist = \"beyonce-knowles\";\n",
       " Genre = \"Pop\";\n",
       " Lyrics =\n",
       "  \"Waiting, waiting, waiting, waiting, Waiting, waiting, waiting, waiting, Waiting, waiting, waiting, waiting ooh, Waiting, waiting, waiting, waiting, It's 6 o'clock, and seconds feel like hours as I sit here, and watch them tick away, And just the thought, of seeing you again I wanna sing, I've been longing for this day, I'll be waiting, 'cause I cant smile untill I see your smile, I'll be waiting, there's nothing else that I would rather do, I'll be waiting, 'cause I can't sleep until I hear your heart, I'll be waiting, 'cause patiently I'll wait right here for you, Waiting, waiting, waiting, waiting, Patiently I'll wait right here for you, Waiting, waiting, waiting, waiting, Patiently I wait, It's 12 am, the crowd is getting thin but it's okay, 'cause I ain't here for them, No no no, And I refuse, to move from where I am, until I feel your heart, pressed against mine again, I'm waiting!, I'll be waiting, 'cause I cant smile until I see your smile, I'll be waiting, there's nothing else that I would rather do, I'll be waiting, 'cause I can't sleep until I hear your heart, I'll be waiting, 'cause patiently I'll wait right here for you, I don't care how long it takes, I don't mind I'm alright I'll sit and wait, 'til the sun comes down and rise, and come right back up again, You're the best thing that's happened in my life, When your aps in the bar is in my life, and it just aint right, So take as long as you like, I'm waiting, Waiting, waiting, waiting, waiting (4x), I'm waiting, I'll be waiting, I cant smile until I see your smile, I'll be waiting, There's nothing else that I would rather do, I'll be waiting, 'cause I can't sleep until I hear your heart, I'll be waiting, 'cause patiently I'll wait right here for you, I'll be waiting, I can't sleep until I hear your heart, I'll be waiting, There's nothing else that I would rather do, I'll be waiting, 'cause I can't sleep until I hear your heart, I'll be waiting, 'cause patiently I wait right here for you, Waiting, waiting, waiting, waiting, Patiently I wait right here for you, Waiting, waiting, waiting, waiting, Patiently I wait, Waiting, waiting, waiting, waiting, Waiting, waiting, waiting, waiting\";\n",
       " Year = 2009;}\n",
       "{Song = \"slow-love\";\n",
       " Artist = \"beyonce-knowles\";\n",
       " Genre = \"Pop\";\n",
       " Lyrics =\n",
       "  \"[Verse 1:], I read all of the magazines, while waiting around, you said you couldn't wait to see me, but you got stuck in town, so turn off the phone, now we're finally alone, and some moments at the end of the day, feel your touch and it's the sweetest, your kisses are my weakness, i never want them to go away, Chorus:, i wanna feel you in my heart (heart), as i look into your eyes (eyes), no need to get busy so lets take our time, and make slow love slow love, and every minute that we have (have), it goes too fast, wanna show you how to rock it, so this feelin last and, make slow love slow love, slow love slow love slow love all night, Verse 2:, it is just a few little things, that you gotta know, a girl will give you all of her heart, when it's happening slow, i need a little laughter, and love will follow after, lets take this chance to steal away, your kisses are delicious, and no one is gonna miss us, tonight i really want you to stay, Chorus:, i wanna feel you in my heart (heart), as i look into your eyes (eyes), no need to get busy so lets take our time, and make slow love slow love, and every minute that we have (have), it goes too fast, wanna show you how to rock it, so this feelin last and, make slow love slow love, slow love slow love slow love all night, Bridge:, so I'm callin out do you hear my cries?, don't have to say goodbye, your the breath on my skin cherish the taste, it's far too good to go to waste, feel my desire, make sweet love all through, all through the night, make love through the night, Chorus:, i wanna feel you in my heart (heart), as i look into your eyes (eyes), no need to get busy so lets take our time, and make slow love slow love, and every minute that we have (have), it goes too fast, wanna show you how to rock it, so this feelin last and, make slow love slow love, slow love all night, Chorus:, i wanna feel you in my heart (heart), as i look into your eyes (eyes), no need to get busy so lets take our time, and make slow love slow love, and every minute that we have (have), it goes too fast, wanna show you how to rock it, so this feelin last and, make slow love slow love, slow love slow love slow love all night\";\n",
       " Year = 2009;}\n",
       "{Song = \"why-don-t-you-love-me\";\n",
       " Artist = \"beyonce-knowles\";\n",
       " Genre = \"Pop\";\n",
       " Lyrics =\n",
       "  \"N-n-now, honey, You better sit down and look around, 'Cause you must've bumped yo' head, And I love you enough to talk some sense back into you, baby, I'd hate to see you come home, Me, the kids, and the dog is gone, Check my credentials, I give you everything you want, everything you need, Even your friends say I'm a good woman, All I need to know is why?, Why don't you love me?, Tell me, baby, why don't you love me, When I make me so damn easy to love?, And why don't you need me?, Tell me, baby, why don't you need me, When I make me so damn easy to need?, I got beauty, I got class, I got style and I got ass, And you don't even care to care, looka here, I even put money in the bank account, Don't have to ask no one to help me out, You don't even notice that, Why don't you love me?, Tell me, baby, why don't you love me, When I make me so damn easy to love?, Why don't you need me?, Tell me, baby, why don't you need me, When I make me so damn easy to need?, I got beauty, I got heart, Keep my head in them books, I'm sharp, But you don't care to know I'm smart, N-n-n-n-n-no, I got moves in your bedroom, Keep you happy with the nasty things I do, But you don't seem to be in tune, ooh, Why don't you love me?, Tell me, baby, why don't you love me, When I make me so damn easy to love?, Why don't you need me?, Tell me, baby, why don't you need me, When I make me so damn easy to need?, There's nothing not to love about me, No, no, there's nothing not to love about me, I'm lovely, there's nothing not to need about me, No, no, there's nothing not to need about me, Maybe you're just not the one, Or maybe you're just plain dumb\";\n",
       " Year = 2009;}\n"
      ]
     },
     "metadata": {},
     "output_type": "display_data"
    }
   ],
   "source": [
    "songLyrics\n",
    "    |> Seq.take 10\n",
    "    |> Seq.iter(fun row -> Console.WriteLine(row))\n",
    "       "
   ]
  },
  {
   "cell_type": "markdown",
   "metadata": {},
   "source": [
    "## Chart analysis"
   ]
  },
  {
   "cell_type": "code",
   "execution_count": 5,
   "metadata": {},
   "outputs": [
    {
     "data": {
      "text/html": [
       "<div id=\"2f70f7e2-8072-40a2-ac0e-376bf209fd3e\" style=\"width: 900px; height: 500px;\"></div>\n",
       "        <script>\n",
       "            var data = [{\"type\":\"pie\",\"labels\":[\"Pop\",\"Hip-Hop\",\"Not Available\",\"Rock\",\"Metal\",\"Other\",\"Country\",\"Jazz\",\"Electronic\",\"Folk\",\"R&B\",\"Indie\"],\"values\":[40466,24850,23941,109235,23759,5189,14387,7971,7966,2243,3401,3149]}];\n",
       "            var layout = {\"title\":\"Dataset by Genre\",\"showlegend\":true};\n",
       "            Plotly.newPlot('2f70f7e2-8072-40a2-ac0e-376bf209fd3e', data, layout);\n",
       "        </script>"
      ],
      "text/plain": [
       "XPlot.Plotly.PlotlyChart"
      ]
     },
     "execution_count": 5,
     "metadata": {},
     "output_type": "execute_result"
    }
   ],
   "source": [
    "open XPlot.Plotly\n",
    "\n",
    "songLyrics\n",
    "        |> Seq.map(fun row -> row.Genre)\n",
    "        |> Seq.countBy id |> Seq.toList \n",
    "        |> Chart.Pie\n",
    "        |> Chart.WithTitle \"Dataset by Genre\"\n",
    "        |> Chart.WithLegend true"
   ]
  },
  {
   "cell_type": "code",
   "execution_count": 6,
   "metadata": {},
   "outputs": [
    {
     "data": {
      "text/html": [
       "<div id=\"d3597786-f698-4b14-a928-13d02d79d971\" style=\"width: 900px; height: 500px;\"></div>\n",
       "        <script>\n",
       "            var data = [{\"type\":\"pie\",\"labels\":[2009,2007,2013,2010,2012,2006,2016,2011,2015,2008,2014,1998,2002,1995,2004,1972,2005,1978,1970,1981,1994,1997,1993,1982,1983,1986,1992,1977,1989,1979,1996,2001,1990,1987,2003,1975,1973,1991,1999,1974,2000,1980,1984,1976,702,1971,1985,1988,112,1968,67],\"values\":[10179,62562,10836,9746,11299,74257,11105,9839,10156,19609,12769,813,1531,740,2720,192,4646,189,172,188,607,779,569,246,147,191,643,256,264,187,772,1216,1140,127,1718,146,246,307,1039,161,1204,203,182,84,1,199,174,195,4,1,1]}];\n",
       "            var layout = {\"title\":\"Dataset by Year\",\"showlegend\":true};\n",
       "            Plotly.newPlot('d3597786-f698-4b14-a928-13d02d79d971', data, layout);\n",
       "        </script>"
      ],
      "text/plain": [
       "XPlot.Plotly.PlotlyChart"
      ]
     },
     "execution_count": 6,
     "metadata": {},
     "output_type": "execute_result"
    }
   ],
   "source": [
    "open XPlot.Plotly\n",
    "\n",
    "songLyrics\n",
    "        |> Seq.map(fun row -> row.Year)\n",
    "        |> Seq.countBy id |> Seq.toList \n",
    "        |> Chart.Pie\n",
    "        |> Chart.WithTitle \"Dataset by Year\"\n",
    "        |> Chart.WithLegend true"
   ]
  },
  {
   "cell_type": "code",
   "execution_count": 9,
   "metadata": {},
   "outputs": [],
   "source": [
    "open Microsoft.ML\n",
    "open Microsoft.ML\n",
    "open Microsoft.ML.Data\n",
    "open Microsoft.ML.Transforms.Text\n",
    "\n",
    "let stopwords = [|\"ourselves\"; \"hers\"; \"between\"; \"yourself\"; \"but\"; \"again\"; \"there\"; \"about\"; \"once\"; \"during\"; \"out\"; \"very\"; \"having\"; \"with\"; \"they\"; \"own\"; \"an\"; \"be\"; \"some\"; \"for\"; \"do\"; \"its\"; \"yours\"; \"such\"; \"into\"; \"of\"; \"most\"; \"itself\"; \"other\"; \"off\"; \"is\"; \"s\"; \"am\"; \"or\"; \"who\"; \"as\"; \"from\"; \"him\"; \"each\"; \"the\"; \"themselves\"; \"until\"; \"below\"; \"are\"; \"we\"; \"these\"; \"your\"; \"his\"; \"through\"; \"don\"; \"nor\"; \"me\"; \"were\"; \"her\"; \"more\"; \"himself\"; \"this\"; \"down\"; \"should\"; \"our\"; \"their\"; \"while\"; \"above\"; \"both\"; \"up\"; \"to\"; \"ours\"; \"had\"; \"she\"; \"all\"; \"no\"; \"when\"; \"at\"; \"any\"; \"before\"; \"them\"; \"same\"; \"and\"; \"been\"; \"have\"; \"in\"; \"will\"; \"on\"; \"does\"; \"yourselves\"; \"then\"; \"that\"; \"because\"; \"what\"; \"over\"; \"why\"; \"so\"; \"can\"; \"did\"; \"not\"; \"now\"; \"under\"; \"he\"; \"you\"; \"herself\"; \"has\"; \"just\"; \"where\"; \"too\"; \"only\"; \"myself\"; \"which\"; \"those\"; \"i\"; \"after\"; \"few\"; \"whom\"; \"t\";\"ll\"; \"being\"; \"if\"; \"theirs\"; \"my\"; \"against\"; \"a\"; \"by\"; \"doing\"; \"it\"; \"how\"; \"further\"; \"was\"; \"here\"; \"than\"; \"s\"; \"t\"; \"m\"; \"'re\"; \"'ll\";\"ve\";\"...\"; \"ä±\"; \"''\"; \"``\"; \"--\"; \"'d\"; \"el\"; \"la\"; \"que\"; \"y\"; \"de\"; \"en\"|]\n",
    "let symbols = [|'\\''; ' '; ','|]\n",
    "            \n",
    "let renderLineChartForWords(words: seq<string>) = \n",
    "            words\n",
    "                |> Seq.countBy id \n",
    "                |> Seq.sortByDescending(fun (value:string, count :int) -> count)\n",
    "                |> Seq.take 15\n",
    "                |> Chart.Line\n",
    "                        \n",
    "let tokenizeLyrics (lyrics: seq<LyricsInput>) =\n",
    "            let mlContext = MLContext(seed = Nullable 0)        \n",
    "            let data = mlContext.Data.LoadFromEnumerable lyrics\n",
    "            \n",
    "            let pipeline = mlContext.Transforms.Text.FeaturizeText(\"FeaturizedLyrics\", \"Lyrics\")\n",
    "                                            .Append(mlContext.Transforms.Text.NormalizeText(\"NormalizedLyrics\", \"Lyrics\"))\n",
    "                                            .Append(mlContext.Transforms.Text.TokenizeWords(\"TokenizedLyric\", \"NormalizedLyrics\", symbols))\n",
    "                                            .Append(mlContext.Transforms.Text.RemoveStopWords(\"LyricsWithNoCustomStopWords\", \"TokenizedLyric\", stopwords))\n",
    "                                            .Append(mlContext.Transforms.Text.RemoveDefaultStopWords(\"LyricsWithNoStopWords\", \"LyricsWithNoCustomStopWords\"))\n",
    "\n",
    "            let transformedData = pipeline.Fit(data).Transform(data)\n",
    "            transformedData.GetColumn<string[]>(mlContext, \"LyricsWithNoStopWords\")\n",
    "                        |> Seq.concat\n",
    "                        |> Seq.toList\n"
   ]
  },
  {
   "cell_type": "markdown",
   "metadata": {},
   "source": [
    "### Words by genre - Rock"
   ]
  },
  {
   "cell_type": "code",
   "execution_count": 10,
   "metadata": {},
   "outputs": [
    {
     "data": {
      "text/html": [
       "<div id=\"5dad7fdc-435e-42ae-847e-93f0ba431864\" style=\"width: 900px; height: 500px;\"></div>\n",
       "        <script>\n",
       "            var data = [{\"type\":\"scatter\",\"x\":[\"know\",\"love\",\"like\",\"oh\",\"got\",\"time\",\"want\",\"let\",\"come\",\"way\",\"say\",\"away\",\"make\",\"gonna\",\"yeah\"],\"y\":[107343,100040,91588,75166,72688,70830,57936,54627,52218,51977,48454,46145,43529,42537,42194]}];\n",
       "            var layout = \"\";\n",
       "            Plotly.newPlot('5dad7fdc-435e-42ae-847e-93f0ba431864', data, layout);\n",
       "        </script>"
      ],
      "text/plain": [
       "XPlot.Plotly.PlotlyChart"
      ]
     },
     "execution_count": 10,
     "metadata": {},
     "output_type": "execute_result"
    }
   ],
   "source": [
    "let filteredLyrics = songLyrics |> Seq.filter(fun row -> row.Genre = \"Rock\" )\n",
    "tokenizeLyrics filteredLyrics\n",
    "        |> renderLineChartForWords"
   ]
  },
  {
   "cell_type": "markdown",
   "metadata": {},
   "source": [
    "### Words by genre - Hip-hop"
   ]
  },
  {
   "cell_type": "code",
   "execution_count": 11,
   "metadata": {},
   "outputs": [
    {
     "data": {
      "text/html": [
       "<div id=\"101238df-1330-44dc-8de3-04d0e20895e8\" style=\"width: 900px; height: 500px;\"></div>\n",
       "        <script>\n",
       "            var data = [{\"type\":\"scatter\",\"x\":[\"like\",\"got\",\"know\",\"ain\",\"nigga\",\"cause\",\"shit\",\"let\",\"ya\",\"love\",\"niggas\",\"make\",\"fuck\",\"man\",\"yeah\"],\"y\":[97960,66865,60288,43132,41118,39014,35385,31604,31305,30620,29947,29233,27923,26736,26624]}];\n",
       "            var layout = \"\";\n",
       "            Plotly.newPlot('101238df-1330-44dc-8de3-04d0e20895e8', data, layout);\n",
       "        </script>"
      ],
      "text/plain": [
       "XPlot.Plotly.PlotlyChart"
      ]
     },
     "execution_count": 11,
     "metadata": {},
     "output_type": "execute_result"
    }
   ],
   "source": [
    "let filteredLyrics = songLyrics |> Seq.filter(fun row -> row.Genre = \"Hip-Hop\" )\n",
    "tokenizeLyrics filteredLyrics\n",
    "        |> renderLineChartForWords"
   ]
  },
  {
   "cell_type": "markdown",
   "metadata": {},
   "source": [
    "### Words by genre - Pop"
   ]
  },
  {
   "cell_type": "code",
   "execution_count": 12,
   "metadata": {},
   "outputs": [
    {
     "data": {
      "text/html": [
       "<div id=\"a973aaa2-eae6-4df3-8b5b-197b1f3700af\" style=\"width: 900px; height: 500px;\"></div>\n",
       "        <script>\n",
       "            var data = [{\"type\":\"scatter\",\"x\":[\"love\",\"know\",\"oh\",\"like\",\"baby\",\"let\",\"got\",\"want\",\"time\",\"cause\",\"come\",\"make\",\"say\",\"way\",\"yeah\"],\"y\":[80510,60006,52772,50233,37246,35519,35198,33046,29979,27659,26346,25854,25404,25372,24433]}];\n",
       "            var layout = \"\";\n",
       "            Plotly.newPlot('a973aaa2-eae6-4df3-8b5b-197b1f3700af', data, layout);\n",
       "        </script>"
      ],
      "text/plain": [
       "XPlot.Plotly.PlotlyChart"
      ]
     },
     "execution_count": 12,
     "metadata": {},
     "output_type": "execute_result"
    }
   ],
   "source": [
    "let filteredLyrics = songLyrics |> Seq.filter(fun row -> row.Genre = \"Pop\" )\n",
    "tokenizeLyrics filteredLyrics\n",
    "        |> renderLineChartForWords"
   ]
  },
  {
   "cell_type": "markdown",
   "metadata": {},
   "source": [
    "### Words by genre - Jazz"
   ]
  },
  {
   "cell_type": "code",
   "execution_count": null,
   "metadata": {},
   "outputs": [],
   "source": [
    "let filteredLyrics = songLyrics |> Seq.filter(fun row -> row.Genre = \"Jazz\" )\n",
    "tokenizeLyrics filteredLyrics\n",
    "        |> renderLineChartForWords"
   ]
  },
  {
   "cell_type": "code",
   "execution_count": null,
   "metadata": {},
   "outputs": [],
   "source": []
  }
 ],
 "metadata": {
  "kernelspec": {
   "display_name": "F#",
   "language": "fsharp",
   "name": "ifsharp"
  },
  "language": "fsharp",
  "language_info": {
   "codemirror_mode": "",
   "file_extension": ".fs",
   "mimetype": "text/x-fsharp",
   "name": "fsharp",
   "nbconvert_exporter": "",
   "pygments_lexer": "",
   "version": "4.3.1.0"
  }
 },
 "nbformat": 4,
 "nbformat_minor": 2
}
