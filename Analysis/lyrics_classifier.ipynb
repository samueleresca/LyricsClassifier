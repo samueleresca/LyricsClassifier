{
 "cells": [
  {
   "cell_type": "markdown",
   "metadata": {},
   "source": [
    "# Lyrics classifier"
   ]
  },
  {
   "cell_type": "markdown",
   "metadata": {},
   "source": [
    "## Load packages"
   ]
  },
  {
   "cell_type": "code",
   "execution_count": null,
   "metadata": {},
   "outputs": [],
   "source": [
    "#load \"Paket.fsx\"\n",
    "\n",
    "Paket.Package \n",
    "  [\"XPlot.Plotly\"\n",
    "   \"MathNet.Numerics\"\n",
    "   \"MathNet.Numerics.FSharp\"\n",
    "   \"FSharp.Data\"\n",
    "   \"Microsoft.ML\"]\n",
    "   \n",
    "#load \"XPlot.Plotly.Paket.fsx\"\n",
    "#load \"XPlot.Plotly.fsx\"\n",
    "#load \"Paket.Generated.Refs.fsx\""
   ]
  },
  {
   "cell_type": "markdown",
   "metadata": {},
   "source": [
    "## Namespaces import and type definition"
   ]
  },
  {
   "cell_type": "code",
   "execution_count": null,
   "metadata": {},
   "outputs": [],
   "source": [
    "open System\n",
    "open System.Linq\n",
    "open System.IO\n",
    "open MathNet.Numerics\n",
    "open MathNet.Numerics.Distributions\n",
    "open MathNet.Numerics.LinearAlgebra\n",
    "open MathNet.Numerics.Random\n",
    "open FSharp.Data\n",
    "\n",
    "\n",
    "\n",
    "[<CLIMutable>]\n",
    "type LyricsInput = \n",
    "    {\n",
    "        Song : string\n",
    "        Artist : string\n",
    "        Genre : string\n",
    "        Lyrics : string\n",
    "        Year: int\n",
    "    }\n",
    "    "
   ]
  },
  {
   "cell_type": "markdown",
   "metadata": {},
   "source": [
    "## Data cleanup"
   ]
  },
  {
   "cell_type": "code",
   "execution_count": null,
   "metadata": {},
   "outputs": [],
   "source": [
    "    let trainDataPath = Path.Combine(\"./\",\"Data\",\"lyrics.csv\")   \n",
    "    let msft = CsvFile.Load(File.Open(trainDataPath, FileMode.Open), separators = \",\", quote = '\"', hasHeaders= true)\n",
    "    \n",
    "    let songLyrics = \n",
    "               msft.Rows\n",
    "               |> Seq.filter (fun row -> not(row.GetColumn \"lyrics\" |> String.IsNullOrEmpty))\n",
    "               |> Seq.filter (fun row -> not(String.Equals(row.GetColumn \"lyrics\", \"[Instrumental]\", StringComparison.OrdinalIgnoreCase)))\n",
    "               |> Seq.take 50000\n",
    "               |> Seq.map (fun row -> {  Song = (row.GetColumn \"song\")\n",
    "                                         Artist = (row.GetColumn \"artist\")\n",
    "                                         Genre = (row.GetColumn \"genre\")\n",
    "                                         Lyrics = (row.GetColumn \"lyrics\").Replace(Environment.NewLine, \", \")\n",
    "                                         Year = (row.GetColumn \"year\") |> int\n",
    "                                      })\n",
    "                              \n"
   ]
  },
  {
   "cell_type": "markdown",
   "metadata": {},
   "source": [
    "### Visualize cleaned data"
   ]
  },
  {
   "cell_type": "code",
   "execution_count": null,
   "metadata": {},
   "outputs": [],
   "source": [
    "songLyrics\n",
    "    |> Seq.iter(fun row -> Console.WriteLine(row))\n",
    "       "
   ]
  },
  {
   "cell_type": "markdown",
   "metadata": {},
   "source": [
    "## Chart analysis"
   ]
  },
  {
   "cell_type": "code",
   "execution_count": null,
   "metadata": {},
   "outputs": [],
   "source": [
    "open XPlot.Plotly\n",
    "\n",
    "songLyrics\n",
    "        |> Seq.map(fun row -> row.Genre)\n",
    "        |> Seq.countBy id |> Seq.toList \n",
    "        |> Chart.Pie\n",
    "        |> Chart.WithTitle \"Dataset by Genre\"\n",
    "        |> Chart.WithLegend true"
   ]
  },
  {
   "cell_type": "code",
   "execution_count": null,
   "metadata": {},
   "outputs": [],
   "source": [
    "open XPlot.Plotly\n",
    "\n",
    "songLyrics\n",
    "        |> Seq.map(fun row -> row.Year)\n",
    "        |> Seq.countBy id |> Seq.toList \n",
    "        |> Chart.Pie\n",
    "        |> Chart.WithTitle \"Dataset by Year\"\n",
    "        |> Chart.WithLegend true"
   ]
  },
  {
   "cell_type": "code",
   "execution_count": null,
   "metadata": {},
   "outputs": [],
   "source": [
    "open System.Text.RegularExpressions\n",
    "\n",
    "let stopwords = [|\"ourselves\"; \"hers\"; \"between\"; \"yourself\"; \"but\"; \"again\"; \"there\"; \"about\"; \"once\"; \"during\"; \"out\"; \"very\"; \"having\"; \"with\"; \"they\"; \"own\"; \"an\"; \"be\"; \"some\"; \"for\"; \"do\"; \"its\"; \"yours\"; \"such\"; \"into\"; \"of\"; \"most\"; \"itself\"; \"other\"; \"off\"; \"is\"; \"s\"; \"am\"; \"or\"; \"who\"; \"as\"; \"from\"; \"him\"; \"each\"; \"the\"; \"themselves\"; \"until\"; \"below\"; \"are\"; \"we\"; \"these\"; \"your\"; \"his\"; \"through\"; \"don\"; \"nor\"; \"me\"; \"were\"; \"her\"; \"more\"; \"himself\"; \"this\"; \"down\"; \"should\"; \"our\"; \"their\"; \"while\"; \"above\"; \"both\"; \"up\"; \"to\"; \"ours\"; \"had\"; \"she\"; \"all\"; \"no\"; \"when\"; \"at\"; \"any\"; \"before\"; \"them\"; \"same\"; \"and\"; \"been\"; \"have\"; \"in\"; \"will\"; \"on\"; \"does\"; \"yourselves\"; \"then\"; \"that\"; \"because\"; \"what\"; \"over\"; \"why\"; \"so\"; \"can\"; \"did\"; \"not\"; \"now\"; \"under\"; \"he\"; \"you\"; \"herself\"; \"has\"; \"just\"; \"where\"; \"too\"; \"only\"; \"myself\"; \"which\"; \"those\"; \"i\"; \"after\"; \"few\"; \"whom\"; \"t\"; \"being\"; \"if\"; \"theirs\"; \"my\"; \"against\"; \"a\"; \"by\"; \"doing\"; \"it\"; \"how\"; \"further\"; \"was\"; \"here\"; \"than\"; \"'s\"; \"n't\"; \"'m\"; \"'re\"; \"'ll\";\"'ve\";\"...\"; \"ä±\"; \"''\"; \"``\"; \"--\"; \"'d\"; \"el\"; \"la\"; \"que\"; \"y\"|]\n",
    "let symbols = \",.)(-:;?!\"\n",
    "\n",
    "let lyricsList = songLyrics\n",
    "                    |> Seq.map(fun row -> row.Lyrics)\n",
    "\n",
    "let stripChars text (chars:string) =\n",
    "    Array.fold (\n",
    "        fun (s:string) c -> s.Replace(c.ToString(),\"\")\n",
    "    ) text (chars.ToCharArray())\n",
    "\n",
    "let isNotStopWord (word:string) =\n",
    "        not(stopwords |> Seq.exists(fun sw -> word.Contains(sw)))\n",
    "        \n",
    "let cleanWords (word:string) = stripChars word symbols                     \n",
    "        \n",
    "let getWords(text: string) =\n",
    "        let words = Regex.Split(text, @\"\\s+\")\n",
    "        words \n",
    "            |> Seq.filter isNotStopWord \n",
    "            |> Seq.map cleanWords\n",
    "            |> Seq.toList\n",
    "            \n",
    "let renderLineChartForWords(words: seq<string>) = \n",
    "            words\n",
    "                |> Seq.countBy id \n",
    "                |> Seq.sortByDescending(fun (value:string, count :int) -> count)\n",
    "                |> Seq.take 15\n",
    "                |> Chart.Line\n",
    "                \n",
    "let getLyricsWords (lyrics : seq<string>) = \n",
    "            lyrics\n",
    "                |> Seq.map(fun row -> row.ToLowerInvariant())\n",
    "                |> Seq.map(fun lyric -> getWords lyric)\n",
    "                |> Seq.concat\n",
    "                |> Seq.filter(fun s-> not(String.IsNullOrEmpty(s)))\n",
    "                        \n",
    "let filterWordsByGenre (genre: string) =\n",
    "            songLyrics\n",
    "                |> Seq.filter(fun row -> row.Genre = genre)\n",
    "                |> Seq.map(fun row -> row.Lyrics)\n",
    "                |> getLyricsWords \n",
    "                \n",
    "let filteredWords = getLyricsWords lyricsList\n"
   ]
  },
  {
   "cell_type": "code",
   "execution_count": null,
   "metadata": {},
   "outputs": [],
   "source": [
    "filteredWords |> renderLineChartForWords"
   ]
  },
  {
   "cell_type": "code",
   "execution_count": null,
   "metadata": {},
   "outputs": [],
   "source": [
    "filterWordsByGenre \"Hip-Hop\" |> renderLineChartForWords"
   ]
  },
  {
   "cell_type": "code",
   "execution_count": null,
   "metadata": {},
   "outputs": [],
   "source": [
    "filterWordsByGenre \"Pop\" |> renderLineChartForWords "
   ]
  },
  {
   "cell_type": "code",
   "execution_count": null,
   "metadata": {},
   "outputs": [],
   "source": [
    "filterWordsByGenre \"Jazz\" |> renderLineChartForWords"
   ]
  },
  {
   "cell_type": "code",
   "execution_count": null,
   "metadata": {},
   "outputs": [],
   "source": []
  }
 ],
 "metadata": {
  "kernelspec": {
   "display_name": "F#",
   "language": "fsharp",
   "name": "ifsharp"
  },
  "language": "fsharp",
  "language_info": {
   "codemirror_mode": "",
   "file_extension": ".fs",
   "mimetype": "text/x-fsharp",
   "name": "fsharp",
   "nbconvert_exporter": "",
   "pygments_lexer": "",
   "version": "4.3.1.0"
  }
 },
 "nbformat": 4,
 "nbformat_minor": 2
}
